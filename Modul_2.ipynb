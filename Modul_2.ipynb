{
 "cells": [
  {
   "cell_type": "markdown",
   "metadata": {},
   "source": [
    "#### Задача 2 - Генератор чисел Фибоначчи"
   ]
  },
  {
   "cell_type": "code",
   "execution_count": 1,
   "metadata": {},
   "outputs": [],
   "source": [
    "def get_fib_numbers(N=100):\n",
    "    fib_numbers = []\n",
    "    fib_numbers.append(0)\n",
    "    fib_numbers.append(1)\n",
    "    \n",
    "    k = 2\n",
    "    while k < N:\n",
    "        curent = fib_numbers[k - 1] + fib_numbers[k - 2]\n",
    "        fib_numbers.append(curent)\n",
    "        k += 1\n",
    "        yield curent"
   ]
  },
  {
   "cell_type": "code",
   "execution_count": 10,
   "metadata": {},
   "outputs": [],
   "source": [
    "fib = get_fib_numbers()"
   ]
  },
  {
   "cell_type": "code",
   "execution_count": 11,
   "metadata": {},
   "outputs": [
    {
     "name": "stdout",
     "output_type": "stream",
     "text": [
      "Введите желаемое количество чисел: 15\n"
     ]
    }
   ],
   "source": [
    "length = int(input(\"Введите желаемое количество чисел: \"))"
   ]
  },
  {
   "cell_type": "code",
   "execution_count": 12,
   "metadata": {},
   "outputs": [
    {
     "name": "stdout",
     "output_type": "stream",
     "text": [
      "1 2 3 5 8 13 21 34 55 89 144 233 377 610 987 "
     ]
    }
   ],
   "source": [
    "for c in range(length):\n",
    "    print(next(fib), end=' ')"
   ]
  },
  {
   "cell_type": "markdown",
   "metadata": {},
   "source": [
    "#### Задача 3 - Тригонометрические функции"
   ]
  },
  {
   "cell_type": "code",
   "execution_count": 34,
   "metadata": {},
   "outputs": [],
   "source": [
    "import math as mt"
   ]
  },
  {
   "cell_type": "code",
   "execution_count": 48,
   "metadata": {},
   "outputs": [],
   "source": [
    "def factor_func(n):\n",
    "    m = 1\n",
    "    for k in range(1, n + 1):\n",
    "        m = m * k\n",
    "    return m\n",
    "\n",
    "def sinus_gen(x, precision = 15):\n",
    "    '''Синус угла х в градусах'''\n",
    "    radian = x * mt.pi / 180\n",
    "    \n",
    "    for k in range(precision):\n",
    "        v = ((-1) ** k) * (radian ** (2*k + 1)) / factor_func(2 * k + 1)\n",
    "        yield v\n",
    "\n",
    "def cosinus_gen(x, precision = 15):\n",
    "    '''Косинус угла х в градусах'''\n",
    "    \n",
    "    radian = x * mt.pi / 180   \n",
    "    for k in range(precision):\n",
    "        v = ((-1) ** k) * (radian ** (2*k)) / factor_func(2 * k)\n",
    "        yield v\n",
    "\n",
    "def exponenta_gen(x, precision = 15):\n",
    "    \n",
    "    for k in range(precision):\n",
    "        v = (x ** k) / factor_func(k)\n",
    "        yield v\n"
   ]
  },
  {
   "cell_type": "code",
   "execution_count": 36,
   "metadata": {},
   "outputs": [],
   "source": [
    "def series_summ(function, arg, mem_n = 5):\n",
    "    '''Суммирует mem_n членов разложения в ряд Тейлора функции function от аргумента arg'''\n",
    "\n",
    "    if mem_n <= 15:\n",
    "        S = 0\n",
    "        if function == 'sin':\n",
    "            sin_gen = sinus_gen(arg)\n",
    "            for i in range(mem_n):\n",
    "                S += sin_gen.__next__()\n",
    "                \n",
    "        elif function == 'cos':\n",
    "            cos_gen = cosinus_gen(arg)\n",
    "            for i in range(mem_n):\n",
    "                S += cos_gen.__next__()\n",
    "                \n",
    "        elif function == 'exp':\n",
    "            exp_gen = exponenta_gen(arg)\n",
    "            for i in range(mem_n):\n",
    "                S += exp_gen.__next__()\n",
    "    else:\n",
    "        print(\"Задано слишком много членов для суммирования!\")\n",
    "    \n",
    "    return S"
   ]
  },
  {
   "cell_type": "code",
   "execution_count": 68,
   "metadata": {},
   "outputs": [
    {
     "name": "stdout",
     "output_type": "stream",
     "text": [
      "Введите значение угла в градусах: 57.35\n",
      "Введите количество элементов ряда: 10\n",
      "math.sin(x) - sin(x) = 0.00e+00\n",
      "math.cos(x) - cos(x) = 0.00e+00\n",
      "math.exp(x) - exp(x) = 2.57e-03\n"
     ]
    }
   ],
   "source": [
    "alfa = input(\"Введите значение угла в градусах: \")\n",
    "num = input(\"Введите количество элементов ряда: \")\n",
    "angle = float(alfa)\n",
    "n = int(num)\n",
    "print(f\"math.sin(x) - sin(x) = {mt.sin(angle*mt.pi/180) - series_summ('sin', angle, n):.2e}\")\n",
    "print(f\"math.cos(x) - cos(x) = {mt.cos(angle*mt.pi/180) - series_summ('cos', angle, n):.2e}\")\n",
    "print(f\"math.exp(x) - exp(x) = {mt.exp(angle*mt.pi/180) - series_summ('exp', 1, n):.2e}\")"
   ]
  },
  {
   "cell_type": "markdown",
   "metadata": {},
   "source": [
    "#### Задача 4 - Преобразование координат"
   ]
  },
  {
   "cell_type": "code",
   "execution_count": 3,
   "metadata": {},
   "outputs": [],
   "source": [
    "def cs_transform(x, y):\n",
    "    import math as mt\n",
    "    rad2grad = 180 / mt.pi\n",
    "    r = mt.sqrt(x ** 2 + y ** 2)\n",
    "    polar = {'radius': r}\n",
    "    \n",
    "    if (x > 0 and y >= 0) or (x > 0 and y < 0):\n",
    "        polar['angle'] = mt.atan(y/x) * rad2grad\n",
    "    elif x == 0 and y > 0:\n",
    "        polar['angle'] = 90\n",
    "    elif x == 0 and y < 0:\n",
    "        polar['angle'] = -90\n",
    "\n",
    "#    elif x == 0 and y == 0:\n",
    "#        print('Преобразование не имеет смсла - точка точка находится в начале координат')\n",
    "    \n",
    "    elif x < 0 and y >= 0:\n",
    "        polar['angle'] = (mt.pi - mt.atan(y/x)) * rad2grad\n",
    "    elif x < 0 and y < 0:\n",
    "        polar['angle'] = (mt.pi + mt.atan(y/x)) * rad2grad\n",
    "        \n",
    "    return polar "
   ]
  },
  {
   "cell_type": "code",
   "execution_count": 9,
   "metadata": {},
   "outputs": [
    {
     "name": "stdout",
     "output_type": "stream",
     "text": [
      "Введите декартовы координаты в формате x;y: 10;-33\n"
     ]
    }
   ],
   "source": [
    "point = input(\"Введите декартовы координаты в формате x;y: \").split(';')\n",
    "x = int(point[0])\n",
    "y = int(point[1])"
   ]
  },
  {
   "cell_type": "code",
   "execution_count": 10,
   "metadata": {},
   "outputs": [
    {
     "name": "stdout",
     "output_type": "stream",
     "text": [
      "Полярные координаты для (x = 10, y = -33): \n",
      " -радиус: 34.48 \n",
      " -угол: -73.14 град\n"
     ]
    }
   ],
   "source": [
    "# x, y = 10, -33\n",
    "pol_coord = cs_transform(x, y)\n",
    "print(f\"Полярные координаты для (x = {x}, y = {y}): \\n -радиус: {pol_coord['radius']:.2f} \\n -угол: {pol_coord['angle']:.2f} град\")\n",
    "# print(coord.values())"
   ]
  },
  {
   "cell_type": "markdown",
   "metadata": {},
   "source": [
    "#### Задача 5 - Масса молекул"
   ]
  },
  {
   "cell_type": "code",
   "execution_count": 1,
   "metadata": {},
   "outputs": [],
   "source": [
    "mol = ['H2-S-O4', 'H2-O', 'NA-CL', 'H-CL', 'K-CL']"
   ]
  },
  {
   "cell_type": "code",
   "execution_count": 2,
   "metadata": {},
   "outputs": [],
   "source": [
    "def molecule(parts):\n",
    "    '''Функция вычисляет молярную массу молекул веществ \n",
    "    по списку их формул в формате строк\n",
    "    '''\n",
    "    import re\n",
    "    \n",
    "    m = {'H': 1.008,                                # база данных атомных весов \n",
    "         'O': 15.999,\n",
    "         'S': 32.066,\n",
    "         'Na': 22.990,\n",
    "         'Cl': 35.453,\n",
    "         'K': 39.098}\n",
    "    \n",
    "    substance_mass = {}\n",
    "    \n",
    "    for substance in parts:\n",
    "        atoms = substance.split('-')                # разбивка сложных молекул на элементы\n",
    "        mass = 0\n",
    "        for atom in atoms:\n",
    "            if re.search(r'[2-9]', atom) == None:   # выделение одноатомных молекул   \n",
    "                         d = 1\n",
    "            else: \n",
    "                         d = int(re.search(r'[2-9]', atom).group(0))    # выделение \n",
    "            mass += d * m[re.search(r'[A-Z]*', atom).group(0).title()]\n",
    "        substance_mass[substance] = mass\n",
    "    \n",
    "    return substance_mass       "
   ]
  },
  {
   "cell_type": "code",
   "execution_count": 11,
   "metadata": {},
   "outputs": [
    {
     "name": "stdout",
     "output_type": "stream",
     "text": [
      "H2-O\t\t18.015\n",
      "H-CL\t\t36.461\n",
      "NA-CL\t\t58.443\n",
      "K-CL\t\t74.551\n",
      "H2-S-O4\t\t98.078\n"
     ]
    }
   ],
   "source": [
    "data = molecule(mol)\n",
    "data_sort = sorted(data.items(), key=lambda x: x[1])  # сортировка словаря по значениям\n",
    "# print(data)\n",
    "for kort in data_sort: print(f\"{kort[0]}\\t\\t{kort[1]:.3f}\")"
   ]
  },
  {
   "cell_type": "markdown",
   "metadata": {},
   "source": [
    "#### Задача 6 - Калькулятор"
   ]
  },
  {
   "cell_type": "code",
   "execution_count": 1,
   "metadata": {},
   "outputs": [],
   "source": [
    "import logging\n",
    "\n",
    "task_file = 'task.txt'\n",
    "res_file = 'results.txt'\n",
    "err_file = 'errors.txt'"
   ]
  },
  {
   "cell_type": "code",
   "execution_count": 2,
   "metadata": {},
   "outputs": [],
   "source": [
    "logger = logging.getLogger()\n",
    "logger.setLevel(logging.DEBUG)\n",
    "\n",
    "sh = logging.StreamHandler()\n",
    "sh.setLevel(logging.INFO)\n",
    "\n",
    "fh = logging.FileHandler(filename='logs.log', mode='w', encoding=\"utf-8\")\n",
    "fh.setLevel(logging.DEBUG)\n",
    "\n",
    "# formatter = logging.Formatter('%(asctime)s - %(name)s - %(levelname)s - %(message)s')\n",
    "formatter = logging.Formatter('%(asctime)s | %(levelname)s | %(message)s')\n",
    "\n",
    "sh.setFormatter(formatter)\n",
    "fh.setFormatter(formatter)\n",
    "\n",
    "logger.addHandler(sh)\n",
    "logger.addHandler(fh)"
   ]
  },
  {
   "cell_type": "code",
   "execution_count": 3,
   "metadata": {},
   "outputs": [],
   "source": [
    "def plus(a, b):\n",
    "    try: \n",
    "        d1 = int(a)\n",
    "        d2 = int(b)\n",
    "        res = f\"{d1 + d2}\"\n",
    "    except ValueError:\n",
    "        try:\n",
    "            d1 = float(a)\n",
    "            d2 = float(b)\n",
    "            res = f\"{d1 + d2:.2f}\"\n",
    "        except ValueError:\n",
    "            res = None\n",
    "            # print('Ошибка! Используется недопустимый символ')\n",
    "    \n",
    "    return res\n",
    "  \n",
    "def minus(a, b):\n",
    "    try: \n",
    "        d1 = int(a)\n",
    "        d2 = int(b)\n",
    "        res = f\"{d1 - d2}\"\n",
    "    except ValueError:\n",
    "        try:\n",
    "            d1 = float(a)\n",
    "            d2 = float(b)\n",
    "            res = f\"{d1 - d2:.2f}\"\n",
    "        except ValueError:\n",
    "            res = None\n",
    "                \n",
    "    return res\n",
    "   \n",
    "def mult(a, b):\n",
    "    try: \n",
    "        d1 = int(a)\n",
    "        d2 = int(b)\n",
    "        res = f\"{d1 * d2}\"\n",
    "    except ValueError:\n",
    "        try:\n",
    "            d1 = float(a)\n",
    "            d2 = float(b)\n",
    "            res = f\"{d1 * d2:.2f}\"\n",
    "        except ValueError:\n",
    "            res = None\n",
    "                \n",
    "    return res\n",
    "\n",
    "def div(a, b):\n",
    "    try: \n",
    "        d1 = int(a)\n",
    "        d2 = int(b)\n",
    "        res = f\"{d1 / d2:.2f}\"\n",
    "    except ValueError:\n",
    "        try:\n",
    "            d1 = float(a)\n",
    "            d2 = float(b)\n",
    "            res = f\"{d1 / d2:.2f}\"\n",
    "        except ValueError:\n",
    "            res = None\n",
    "                \n",
    "    return res"
   ]
  },
  {
   "cell_type": "code",
   "execution_count": 5,
   "metadata": {},
   "outputs": [],
   "source": [
    "with open(task_file, 'r') as t:\n",
    "    expr = t.readlines()"
   ]
  },
  {
   "cell_type": "code",
   "execution_count": 6,
   "metadata": {},
   "outputs": [
    {
     "name": "stderr",
     "output_type": "stream",
     "text": [
      "2024-09-16 17:17:55,629 | ERROR | Ошибка! Выражение в строке 5 содержит недопустимые символы\n"
     ]
    },
    {
     "name": "stdout",
     "output_type": "stream",
     "text": [
      "Строка 1: 48\n",
      "Строка 2: 6\n",
      "Строка 3: 13.29\n",
      "Строка 4: 6\n",
      "Ошибка! Выражение в строке 5 содержит недопустимые символы\n",
      "Строка 6: 5\n",
      "Строка 7: 2.15\n",
      "Строка 8: -13\n"
     ]
    }
   ],
   "source": [
    "k = 1\n",
    "with open(res_file, 'w') as res:\n",
    "    err = open(err_file, 'w')\n",
    "    \n",
    "    for expression in expr:\n",
    "        e = expression.replace(' ', '')\n",
    "        # e = expression.rstrip()\n",
    "                \n",
    "        if '+' in e:\n",
    "            e_list = e.split('+')\n",
    "            # print(e_list)\n",
    "            goal = plus(e_list[0], e_list[1])\n",
    "\n",
    "        elif '-' in e:\n",
    "            e_list = e.split('-')\n",
    "            # print(e_list)\n",
    "            goal = minus(e_list[0], e_list[1])\n",
    "    \n",
    "        elif '/' in e:\n",
    "            e_list = e.split('/')\n",
    "            # print(e_list)\n",
    "            goal = div(e_list[0], e_list[1])\n",
    "    \n",
    "        elif '*' in e:\n",
    "            e_list = e.split('*')\n",
    "            # print(e_list)\n",
    "            goal = mult(e_list[0], e_list[1])\n",
    "        \n",
    "        if goal == None:\n",
    "            err_mess = f\"Ошибка! Выражение в строке {k} содержит недопустимые символы\"\n",
    "            print(err_mess)\n",
    "            err.write(err_mess)\n",
    "            logger.error(err_mess)\n",
    "        else:\n",
    "            res_str = f\"Строка {k}: \" + goal + \"\\n\"\n",
    "            print(res_str, end='')\n",
    "            res.write(res_str)                \n",
    "            # print(err_mess, file=err)\n",
    "        k += 1\n",
    "    err.close()"
   ]
  },
  {
   "cell_type": "markdown",
   "metadata": {},
   "source": [
    "#### Задача 7 - Шифр Цезаря"
   ]
  },
  {
   "cell_type": "code",
   "execution_count": 51,
   "metadata": {},
   "outputs": [],
   "source": [
    "def shifr(shift, message):\n",
    "    abrakadabra = ''\n",
    "    q = [',', '.', '!', '?', '-', '\"', ' ']\n",
    "    shift = int(shift)\n",
    "    for sim in message:\n",
    "        if sim not in q:\n",
    "            \n",
    "            if shift > 0 and shift > 1103 - ord(sim.lower()):\n",
    "                new_position = shift + ord(sim.lower()) - 33\n",
    "            \n",
    "            elif shift > 0 and shift <= 1103 - ord(sim.lower()):\n",
    "                new_position = shift + ord(sim.lower())\n",
    "            \n",
    "            elif shift < 0 and abs(shift) > ord(sim.lower()) - 1072: \n",
    "                new_position = 33 - abs(shift) + ord(sim.lower())\n",
    "                \n",
    "            elif shift < 0 and abs(shift) <= ord(sim.lower()) - 1072: \n",
    "                new_position = ord(sim.lower()) - abs(shift)\n",
    "                \n",
    "            if ord(sim) > 1071 and ord(sim) < 1104:\n",
    "                abrakadabra += chr(new_position)\n",
    "                \n",
    "            elif ord(sim) > 1039 and ord(sim) < 1072:\n",
    "                abrakadabra += chr(new_position).upper()\n",
    "            \n",
    "        else: abrakadabra += sim\n",
    "        \n",
    "    return abrakadabra"
   ]
  },
  {
   "cell_type": "code",
   "execution_count": 53,
   "metadata": {},
   "outputs": [
    {
     "name": "stdout",
     "output_type": "stream",
     "text": [
      "Введите смещение: 9\n",
      "Введите сообщение: Как дела, Петя?\n"
     ]
    }
   ],
   "source": [
    "s = int(input(\"Введите смещение: \"))\n",
    "mes = input(\"Введите сообщение: \")"
   ]
  },
  {
   "cell_type": "code",
   "execution_count": 54,
   "metadata": {},
   "outputs": [
    {
     "name": "stdout",
     "output_type": "stream",
     "text": [
      "Уйу нофй, Шоыз?\n",
      "Как дела, Петя?\n"
     ]
    }
   ],
   "source": [
    "mesh = shifr(s, mes)\n",
    "mess = shifr(-s, mesh)\n",
    "print(mesh)\n",
    "print(mess)"
   ]
  },
  {
   "cell_type": "code",
   "execution_count": 13,
   "metadata": {},
   "outputs": [],
   "source": [
    "# for l in range(1040, 1104): print(chr(l), end=', ')"
   ]
  },
  {
   "cell_type": "markdown",
   "metadata": {},
   "source": [
    "#### PЗадача 8 - Лог спорткомплекса"
   ]
  },
  {
   "cell_type": "code",
   "execution_count": 1,
   "metadata": {},
   "outputs": [],
   "source": [
    "import csv\n",
    "from datetime import time as dt\n",
    "from datetime import timedelta as tdlt\n",
    "filename = 'activity.csv'"
   ]
  },
  {
   "cell_type": "code",
   "execution_count": 2,
   "metadata": {},
   "outputs": [],
   "source": [
    "with open(filename, newline='') as fn:\n",
    "    log = csv.reader(fn)\n",
    "    \n",
    "    activity = []\n",
    "    k = 0\n",
    "    for row in log:\n",
    "        if row:\n",
    "            # athlete.append(row[1])\n",
    "            if k == 0:\n",
    "                field = row\n",
    "            else:\n",
    "                activity.append(dict(zip(field, row)))\n",
    "            k += 1"
   ]
  },
  {
   "cell_type": "code",
   "execution_count": 3,
   "metadata": {},
   "outputs": [
    {
     "name": "stdout",
     "output_type": "stream",
     "text": [
      "{'Date': '01/01/2023 09:00:00', 'Athlete ID': '10012', 'Location': 'Center', 'Type': 'Out'}\n",
      "{'Date': '01/01/2023 09:00:00', 'Athlete ID': '10001', 'Location': 'Pool-1', 'Type': 'Out'}\n",
      "{'Date': '01/01/2023 09:00:00', 'Athlete ID': '10001', 'Location': 'Pool-1', 'Type': 'Out'}\n",
      "{'Date': '01/01/2023 09:00:00', 'Athlete ID': '10011', 'Location': 'Pool-2', 'Type': 'In'}\n",
      "{'Date': '01/01/2023 12:14:59', 'Athlete ID': '10011', 'Location': 'Pool-1', 'Type': 'In'}\n",
      "{'Date': '01/01/2023 12:44:59', 'Athlete ID': '10011', 'Location': 'Pool-2', 'Type': 'Out'}\n",
      "{'Date': '01/01/2023 12:14:59', 'Athlete ID': '10013', 'Location': 'Center', 'Type': 'Out'}\n",
      "{'Date': '01/01/2023 12:14:59', 'Athlete ID': '10019', 'Location': 'Pool-2', 'Type': 'In'}\n",
      "{'Date': '01/01/2023 16:14:59', 'Athlete ID': '10018', 'Location': 'Pool-1', 'Type': 'Out'}\n",
      "{'Date': '01/01/2023 16:14:59', 'Athlete ID': '10020', 'Location': 'Pool-2', 'Type': 'Out'}\n",
      "{'Date': '01/01/2023 16:14:59', 'Athlete ID': '10011', 'Location': 'Pool-2', 'Type': 'In'}\n",
      "{'Date': '01/01/2023 18:39:55', 'Athlete ID': '10011', 'Location': 'Center', 'Type': 'In'}\n",
      "{'Date': '01/01/2023 19:09:55', 'Athlete ID': '10011', 'Location': 'Pool-2', 'Type': 'Out'}\n",
      "{'Date': '01/01/2023 18:39:55', 'Athlete ID': '10017', 'Location': 'Pool-2', 'Type': 'In'}\n",
      "{'Date': '01/01/2023 20:41:40', 'Athlete ID': '10017', 'Location': 'Center', 'Type': 'In'}\n",
      "{'Date': '01/01/2023 21:11:40', 'Athlete ID': '10017', 'Location': 'Pool-2', 'Type': 'Out'}\n"
     ]
    }
   ],
   "source": [
    "for item in activity: print(item)"
   ]
  },
  {
   "cell_type": "code",
   "execution_count": 4,
   "metadata": {},
   "outputs": [
    {
     "name": "stdout",
     "output_type": "stream",
     "text": [
      "['10001', '10011', '10012', '10013', '10017', '10018', '10019', '10020']\n",
      "{'Pool-1', 'Center', 'Pool-2'}\n"
     ]
    }
   ],
   "source": [
    "athlete_list = []\n",
    "loc_list = []\n",
    "for notes in activity:\n",
    "    athlete_list.append(notes['Athlete ID'])\n",
    "    loc_list.append(notes['Location'])\n",
    "\n",
    "athlete_ID = sorted(set(athlete_list))\n",
    "athlete_loc = set(loc_list)\n",
    "print(athlete_ID)\n",
    "print(athlete_loc)"
   ]
  },
  {
   "cell_type": "code",
   "execution_count": 5,
   "metadata": {},
   "outputs": [],
   "source": [
    "import logging\n",
    "\n",
    "logger = logging.getLogger('simple_log')\n",
    "logger.setLevel(logging.DEBUG)\n",
    "\n",
    "fh = logging.FileHandler(filename='db_errors.log', mode='w', encoding=\"utf-8\")\n",
    "fh.setLevel(logging.DEBUG)\n",
    "\n",
    "# formatter = logging.Formatter('%(asctime)s - %(name)s - %(levelname)s - %(message)s')\n",
    "formatter = logging.Formatter('%(asctime)s | %(levelname)s | %(message)s')\n",
    "\n",
    "fh.setFormatter(formatter)\n",
    "logger.addHandler(fh)"
   ]
  },
  {
   "cell_type": "code",
   "execution_count": 6,
   "metadata": {},
   "outputs": [
    {
     "name": "stdout",
     "output_type": "stream",
     "text": [
      "Атлет 10011 провёл в Pool-2 225 мин.\n",
      "Атлет 10011 провёл в Pool-2 175 мин.\n",
      "Атлет 10017 провёл в Pool-2 152 мин.\n"
     ]
    }
   ],
   "source": [
    "for inum in athlete_ID:\n",
    "    for loc in athlete_loc:\n",
    "                \n",
    "        deltaT = []     \n",
    "        t1 = 0\n",
    "        for notes in activity:\n",
    "            \n",
    "            if notes['Athlete ID'] == inum and notes['Location'] == loc and notes['Type'] == 'In':\n",
    "                t1 = notes['Date'].split(' ')\n",
    "                t1_str = dt.fromisoformat(t1[1])\n",
    "                t1_delta = tdlt(hours=t1_str.hour, minutes=t1_str.minute, seconds=t1_str.second)\n",
    "                notes['Type'] = 'processed'\n",
    "                t2 = 0\n",
    "                for notes in activity:\n",
    "                    if notes['Athlete ID'] == inum and notes['Location'] == loc and notes['Type'] == 'Out':\n",
    "                        t2 = notes['Date'].split(' ')\n",
    "                        t2_str = dt.fromisoformat(t2[1])\n",
    "                        t2_delta = tdlt(hours=t2_str.hour, minutes=t2_str.minute, seconds=t2_str.second)\n",
    "                        notes['Type'] = 'processed'\n",
    "                        deltaT.append(t2_delta - t1_delta)\n",
    "                        break\n",
    "                if t2 == 0:\n",
    "                    logger.debug(f\"Нет данных о выходе атлета {inum} из {loc}\")\n",
    "                    # print(f\"Нет данных о выходе атлета {inum} из {loc}\")\n",
    "                    # pass\n",
    "        if t1 == 0:\n",
    "            logger.debug(f\"Нет данных о входе атлета {inum} в {loc}\")\n",
    "            # print(f\"Нет данных о входе атлета {inum} в {loc}\")\n",
    "            # pass\n",
    "        else: \n",
    "            for delta in deltaT:\n",
    "                print(f\"Атлет {inum} провёл в {loc} {round(delta.total_seconds()/60)} мин.\")"
   ]
  },
  {
   "cell_type": "markdown",
   "metadata": {},
   "source": [
    "#### Задача 9 - Контрольная сумма"
   ]
  },
  {
   "cell_type": "code",
   "execution_count": 4,
   "metadata": {},
   "outputs": [],
   "source": [
    "import crc8"
   ]
  },
  {
   "cell_type": "code",
   "execution_count": 10,
   "metadata": {},
   "outputs": [],
   "source": [
    "def ks_codec(message, direction=1):\n",
    "    d = int(direction)\n",
    "    if d == 1:\n",
    "        bit_message = [format(ord(x), 'b').zfill(8) for x in message]\n",
    "\n",
    "        control = []\n",
    "        for let in message:\n",
    "            m = crc8.crc8()\n",
    "            b_mess = m.reset().update(let.encode('ascii')).hexdigest()\n",
    "            control.append(bin(int(float.fromhex(b_mess)))[2:].zfill(8))\n",
    "        \n",
    "        cod_message = ' '.join(f'{a} {b}' for a, b in zip(bit_message, control))\n",
    "        \n",
    "    elif d == 2:\n",
    "        mmm = crc8.crc8()\n",
    "        m_list = list(message.split(' '))[::2]  \n",
    "        c_list = list(message.split(' '))[1::2]\n",
    "        c_m = ''\n",
    "        proof = []\n",
    "                \n",
    "        for sym in m_list:\n",
    "            cs = mmm.reset().update(chr(int(sym, 2)).encode('ascii')).hexdigest()\n",
    "            cs_c = int(cs, 16)\n",
    "            cs_m = int(c_list[m_list.index(sym)], 2)\n",
    "            compare = cs_c^cs_m\n",
    "            proof.append(compare) \n",
    "            c_m += chr(int(sym, 2))\n",
    "            \n",
    "            if compare > 0:\n",
    "                note = (f\"Ошибка в символе {chr(int(sym, 2))} с индексом {m_list.index(sym) + 1}\\n\"\n",
    "                        f\"Символ: {chr(int(sym, 2))}\\n\"\n",
    "                        f\"crc8: {cs}\\n\"\n",
    "                        f\"crc8 (полученное): {hex(cs_m)[2:]}\")\n",
    "                print(note)\n",
    "                mark = open('crc_analys.txt', 'w')\n",
    "                mark.write(note)\n",
    "            mark.close()\n",
    "        \n",
    "        if sum(proof) == 0:\n",
    "            cod_message = 'Все контрольные суммы верны. \\n' + 'Декодированное сообщение: ' + c_m\n",
    "        else: cod_message = f\"Декодированное сообщение: {c_m}\"                        \n",
    "                        \n",
    "    else: cod_message = 'Внимательно задайте аргументы функции.'\n",
    "        \n",
    "    return cod_message"
   ]
  },
  {
   "cell_type": "code",
   "execution_count": 2,
   "metadata": {},
   "outputs": [
    {
     "name": "stdout",
     "output_type": "stream",
     "text": [
      "Введите тип (1 - кодер, 2 - декодер): 1\n",
      "Введите сообщение: hello\n"
     ]
    }
   ],
   "source": [
    "direction = input(\"Введите тип (1 - кодер, 2 - декодер): \")\n",
    "message = input(\"Введите сообщение: \")"
   ]
  },
  {
   "cell_type": "code",
   "execution_count": 5,
   "metadata": {},
   "outputs": [
    {
     "name": "stdout",
     "output_type": "stream",
     "text": [
      "01101000 00011111 01100101 00111100 01101100 00000011 01101100 00000011 01101111 00001010\n"
     ]
    }
   ],
   "source": [
    "print(ks_codec(message, direction))"
   ]
  },
  {
   "cell_type": "code",
   "execution_count": 6,
   "metadata": {},
   "outputs": [
    {
     "name": "stdout",
     "output_type": "stream",
     "text": [
      "Введите тип (1 - кодер, 2 - декодер): 2\n",
      "Введите сообщение: 01101000 00011111 01100101 00111100 01101100 00000011 01101100 00000011 01101111 00001010\n"
     ]
    }
   ],
   "source": [
    "direction = input(\"Введите тип (1 - кодер, 2 - декодер): \")\n",
    "message = input(\"Введите сообщение: \")"
   ]
  },
  {
   "cell_type": "code",
   "execution_count": 7,
   "metadata": {},
   "outputs": [
    {
     "name": "stdout",
     "output_type": "stream",
     "text": [
      "Все контрольные суммы верны. \n",
      "Декодированное сообщение: hello\n"
     ]
    }
   ],
   "source": [
    "print(ks_codec(message, direction))"
   ]
  },
  {
   "cell_type": "code",
   "execution_count": 8,
   "metadata": {},
   "outputs": [
    {
     "name": "stdout",
     "output_type": "stream",
     "text": [
      "Введите тип (1 - кодер, 2 - декодер): 2\n",
      "Введите сообщение: 01101000 00111111 01100101 00111100 01101100 00000011 01101100 00000011 01101111 00001010\n"
     ]
    }
   ],
   "source": [
    "direction = input(\"Введите тип (1 - кодер, 2 - декодер): \")\n",
    "message = input(\"Введите сообщение: \")"
   ]
  },
  {
   "cell_type": "code",
   "execution_count": 11,
   "metadata": {},
   "outputs": [
    {
     "name": "stdout",
     "output_type": "stream",
     "text": [
      "Ошибка в символе h с индексом 1\n",
      "Символ: h\n",
      "crc8 (вычисленное): 1f\n",
      "crc8 (полученное): 3f\n",
      "Декодированное сообщение: hello\n"
     ]
    }
   ],
   "source": [
    "print(ks_codec(message, direction))"
   ]
  }
 ],
 "metadata": {
  "kernelspec": {
   "display_name": "Python 3 (ipykernel)",
   "language": "python",
   "name": "python3"
  },
  "language_info": {
   "codemirror_mode": {
    "name": "ipython",
    "version": 3
   },
   "file_extension": ".py",
   "mimetype": "text/x-python",
   "name": "python",
   "nbconvert_exporter": "python",
   "pygments_lexer": "ipython3",
   "version": "3.12.5"
  }
 },
 "nbformat": 4,
 "nbformat_minor": 4
}
